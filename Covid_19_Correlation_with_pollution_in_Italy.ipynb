{
  "nbformat": 4,
  "nbformat_minor": 0,
  "metadata": {
    "colab": {
      "name": "Covid-19 - Correlation with pollution in Italy.ipynb",
      "provenance": [],
      "authorship_tag": "ABX9TyODOgrFNLiHb3I4TCyGU+yF",
      "include_colab_link": true
    },
    "kernelspec": {
      "name": "python3",
      "display_name": "Python 3"
    }
  },
  "cells": [
    {
      "cell_type": "markdown",
      "metadata": {
        "id": "view-in-github",
        "colab_type": "text"
      },
      "source": [
        "<a href=\"https://colab.research.google.com/github/gianlucamalato/machinelearning/blob/master/Covid_19_Correlation_with_pollution_in_Italy.ipynb\" target=\"_parent\"><img src=\"https://colab.research.google.com/assets/colab-badge.svg\" alt=\"Open In Colab\"/></a>"
      ]
    },
    {
      "cell_type": "code",
      "metadata": {
        "id": "EZwAKj6llO57",
        "colab_type": "code",
        "colab": {}
      },
      "source": [
        "import pandas as pd\n",
        "import numpy as np\n",
        "from datetime import datetime,timedelta\n",
        "\n",
        "from scipy.stats import fisher_exact,spearmanr\n",
        "\n",
        "import matplotlib.pyplot as plt\n",
        "%matplotlib inline"
      ],
      "execution_count": 0,
      "outputs": []
    },
    {
      "cell_type": "markdown",
      "metadata": {
        "id": "9Ul1-3deT5tI",
        "colab_type": "text"
      },
      "source": [
        "# Data preparation"
      ]
    },
    {
      "cell_type": "code",
      "metadata": {
        "id": "9xKOKf5IkoGq",
        "colab_type": "code",
        "colab": {}
      },
      "source": [
        "url_pollution = \"https://docs.google.com/spreadsheets/d/e/2PACX-1vSBF0Jz0IZezYodgtLRrQouH9KDuVJ5D3A12KAG263jDJT9xB3gKK7mlei7R316DCsRv1_AY9LVEOyk/pub?gid=1738056038&single=true&output=csv\""
      ],
      "execution_count": 0,
      "outputs": []
    },
    {
      "cell_type": "code",
      "metadata": {
        "id": "6CnXcIL2k8Pu",
        "colab_type": "code",
        "colab": {}
      },
      "source": [
        "url_infections = \"https://github.com/pcm-dpc/COVID-19/raw/master/dati-province/dpc-covid19-ita-province.csv\""
      ],
      "execution_count": 0,
      "outputs": []
    },
    {
      "cell_type": "code",
      "metadata": {
        "id": "4bgYFpoBlL-R",
        "colab_type": "code",
        "colab": {}
      },
      "source": [
        "pollution = pd.read_csv(url_pollution)"
      ],
      "execution_count": 0,
      "outputs": []
    },
    {
      "cell_type": "code",
      "metadata": {
        "id": "uFlapfyzTpjx",
        "colab_type": "code",
        "outputId": "567ac472-e22a-41c7-9027-aa15163f95e2",
        "colab": {
          "base_uri": "https://localhost:8080/",
          "height": 204
        }
      },
      "source": [
        "pollution.loc[:,['City/Town','Annual mean, ug/m3']].head()"
      ],
      "execution_count": 157,
      "outputs": [
        {
          "output_type": "execute_result",
          "data": {
            "text/html": [
              "<div>\n",
              "<style scoped>\n",
              "    .dataframe tbody tr th:only-of-type {\n",
              "        vertical-align: middle;\n",
              "    }\n",
              "\n",
              "    .dataframe tbody tr th {\n",
              "        vertical-align: top;\n",
              "    }\n",
              "\n",
              "    .dataframe thead th {\n",
              "        text-align: right;\n",
              "    }\n",
              "</style>\n",
              "<table border=\"1\" class=\"dataframe\">\n",
              "  <thead>\n",
              "    <tr style=\"text-align: right;\">\n",
              "      <th></th>\n",
              "      <th>City/Town</th>\n",
              "      <th>Annual mean, ug/m3</th>\n",
              "    </tr>\n",
              "  </thead>\n",
              "  <tbody>\n",
              "    <tr>\n",
              "      <th>0</th>\n",
              "      <td>Tirana</td>\n",
              "      <td>32</td>\n",
              "    </tr>\n",
              "    <tr>\n",
              "      <th>1</th>\n",
              "      <td>Vlore</td>\n",
              "      <td>23</td>\n",
              "    </tr>\n",
              "    <tr>\n",
              "      <th>2</th>\n",
              "      <td>Vrith</td>\n",
              "      <td>20</td>\n",
              "    </tr>\n",
              "    <tr>\n",
              "      <th>3</th>\n",
              "      <td>Escaldes-Engordany</td>\n",
              "      <td>19</td>\n",
              "    </tr>\n",
              "    <tr>\n",
              "      <th>4</th>\n",
              "      <td>Abu Dhabi</td>\n",
              "      <td>150</td>\n",
              "    </tr>\n",
              "  </tbody>\n",
              "</table>\n",
              "</div>"
            ],
            "text/plain": [
              "            City/Town  Annual mean, ug/m3\n",
              "0              Tirana                  32\n",
              "1               Vlore                  23\n",
              "2               Vrith                  20\n",
              "3  Escaldes-Engordany                  19\n",
              "4           Abu Dhabi                 150"
            ]
          },
          "metadata": {
            "tags": []
          },
          "execution_count": 157
        }
      ]
    },
    {
      "cell_type": "code",
      "metadata": {
        "id": "BzgGsupelaRY",
        "colab_type": "code",
        "colab": {}
      },
      "source": [
        "infections = pd.read_csv(url_infections)"
      ],
      "execution_count": 0,
      "outputs": []
    },
    {
      "cell_type": "code",
      "metadata": {
        "id": "wyaRhchvTr3m",
        "colab_type": "code",
        "outputId": "0f5e1e42-7781-4222-b4d1-8512d5c266da",
        "colab": {
          "base_uri": "https://localhost:8080/",
          "height": 289
        }
      },
      "source": [
        "infections.head()"
      ],
      "execution_count": 159,
      "outputs": [
        {
          "output_type": "execute_result",
          "data": {
            "text/html": [
              "<div>\n",
              "<style scoped>\n",
              "    .dataframe tbody tr th:only-of-type {\n",
              "        vertical-align: middle;\n",
              "    }\n",
              "\n",
              "    .dataframe tbody tr th {\n",
              "        vertical-align: top;\n",
              "    }\n",
              "\n",
              "    .dataframe thead th {\n",
              "        text-align: right;\n",
              "    }\n",
              "</style>\n",
              "<table border=\"1\" class=\"dataframe\">\n",
              "  <thead>\n",
              "    <tr style=\"text-align: right;\">\n",
              "      <th></th>\n",
              "      <th>data</th>\n",
              "      <th>stato</th>\n",
              "      <th>codice_regione</th>\n",
              "      <th>denominazione_regione</th>\n",
              "      <th>codice_provincia</th>\n",
              "      <th>denominazione_provincia</th>\n",
              "      <th>sigla_provincia</th>\n",
              "      <th>lat</th>\n",
              "      <th>long</th>\n",
              "      <th>totale_casi</th>\n",
              "    </tr>\n",
              "  </thead>\n",
              "  <tbody>\n",
              "    <tr>\n",
              "      <th>0</th>\n",
              "      <td>2020-02-24 18:00:00</td>\n",
              "      <td>ITA</td>\n",
              "      <td>13</td>\n",
              "      <td>Abruzzo</td>\n",
              "      <td>69</td>\n",
              "      <td>Chieti</td>\n",
              "      <td>CH</td>\n",
              "      <td>42.351032</td>\n",
              "      <td>14.167546</td>\n",
              "      <td>0</td>\n",
              "    </tr>\n",
              "    <tr>\n",
              "      <th>1</th>\n",
              "      <td>2020-02-24 18:00:00</td>\n",
              "      <td>ITA</td>\n",
              "      <td>13</td>\n",
              "      <td>Abruzzo</td>\n",
              "      <td>66</td>\n",
              "      <td>L'Aquila</td>\n",
              "      <td>AQ</td>\n",
              "      <td>42.351222</td>\n",
              "      <td>13.398438</td>\n",
              "      <td>0</td>\n",
              "    </tr>\n",
              "    <tr>\n",
              "      <th>2</th>\n",
              "      <td>2020-02-24 18:00:00</td>\n",
              "      <td>ITA</td>\n",
              "      <td>13</td>\n",
              "      <td>Abruzzo</td>\n",
              "      <td>68</td>\n",
              "      <td>Pescara</td>\n",
              "      <td>PE</td>\n",
              "      <td>42.464584</td>\n",
              "      <td>14.213648</td>\n",
              "      <td>0</td>\n",
              "    </tr>\n",
              "    <tr>\n",
              "      <th>3</th>\n",
              "      <td>2020-02-24 18:00:00</td>\n",
              "      <td>ITA</td>\n",
              "      <td>13</td>\n",
              "      <td>Abruzzo</td>\n",
              "      <td>67</td>\n",
              "      <td>Teramo</td>\n",
              "      <td>TE</td>\n",
              "      <td>42.658918</td>\n",
              "      <td>13.704400</td>\n",
              "      <td>0</td>\n",
              "    </tr>\n",
              "    <tr>\n",
              "      <th>4</th>\n",
              "      <td>2020-02-24 18:00:00</td>\n",
              "      <td>ITA</td>\n",
              "      <td>13</td>\n",
              "      <td>Abruzzo</td>\n",
              "      <td>979</td>\n",
              "      <td>In fase di definizione/aggiornamento</td>\n",
              "      <td>NaN</td>\n",
              "      <td>0.000000</td>\n",
              "      <td>0.000000</td>\n",
              "      <td>0</td>\n",
              "    </tr>\n",
              "  </tbody>\n",
              "</table>\n",
              "</div>"
            ],
            "text/plain": [
              "                  data stato  codice_regione  ...        lat       long totale_casi\n",
              "0  2020-02-24 18:00:00   ITA              13  ...  42.351032  14.167546           0\n",
              "1  2020-02-24 18:00:00   ITA              13  ...  42.351222  13.398438           0\n",
              "2  2020-02-24 18:00:00   ITA              13  ...  42.464584  14.213648           0\n",
              "3  2020-02-24 18:00:00   ITA              13  ...  42.658918  13.704400           0\n",
              "4  2020-02-24 18:00:00   ITA              13  ...   0.000000   0.000000           0\n",
              "\n",
              "[5 rows x 10 columns]"
            ]
          },
          "metadata": {
            "tags": []
          },
          "execution_count": 159
        }
      ]
    },
    {
      "cell_type": "markdown",
      "metadata": {
        "id": "FI5bbdChRtS8",
        "colab_type": "text"
      },
      "source": [
        "Converting dates into numbers"
      ]
    },
    {
      "cell_type": "code",
      "metadata": {
        "id": "_OCBLVDNyRO7",
        "colab_type": "code",
        "colab": {}
      },
      "source": [
        "FMT = '%Y-%m-%d %H:%M:%S'\n",
        "date = infections['data']\n",
        "infections['data'] = date.map(lambda x : (datetime.strptime(x, FMT) - datetime.strptime(\"2020-01-01 00:00:00\", FMT)).days  )"
      ],
      "execution_count": 0,
      "outputs": []
    },
    {
      "cell_type": "markdown",
      "metadata": {
        "id": "GmIAL49EUBQf",
        "colab_type": "text"
      },
      "source": [
        "# Calculating daily infection rate (average of daily change of total infected people)"
      ]
    },
    {
      "cell_type": "code",
      "metadata": {
        "id": "_vLUNLh0nlEc",
        "colab_type": "code",
        "colab": {}
      },
      "source": [
        "infection_rate = pd.DataFrame({'city':[],'infection_rate':[]})\n",
        "\n",
        "for city in infections['denominazione_provincia'].unique():\n",
        "  # Only get days when there have been infected people\n",
        "  subset = infections[(infections['denominazione_provincia'] == city) & (infections['totale_casi'] > 0)].sort_values('data')\n",
        "  \n",
        "  # Mean value of the differences between consecutive points\n",
        "  city_infection_rate =  np.mean(subset['totale_casi'].diff(1)) \n",
        "  \n",
        "  infection_rate = infection_rate.append(pd.DataFrame({'city':[city],'infection_rate':[city_infection_rate]}))"
      ],
      "execution_count": 0,
      "outputs": []
    },
    {
      "cell_type": "code",
      "metadata": {
        "id": "HmX9W8mnTvat",
        "colab_type": "code",
        "outputId": "a8304e2f-0529-4a23-fac2-bf2dc41aa337",
        "colab": {
          "base_uri": "https://localhost:8080/",
          "height": 359
        }
      },
      "source": [
        "infection_rate.sort_values('infection_rate',ascending=False).head(10)"
      ],
      "execution_count": 162,
      "outputs": [
        {
          "output_type": "execute_result",
          "data": {
            "text/html": [
              "<div>\n",
              "<style scoped>\n",
              "    .dataframe tbody tr th:only-of-type {\n",
              "        vertical-align: middle;\n",
              "    }\n",
              "\n",
              "    .dataframe tbody tr th {\n",
              "        vertical-align: top;\n",
              "    }\n",
              "\n",
              "    .dataframe thead th {\n",
              "        text-align: right;\n",
              "    }\n",
              "</style>\n",
              "<table border=\"1\" class=\"dataframe\">\n",
              "  <thead>\n",
              "    <tr style=\"text-align: right;\">\n",
              "      <th></th>\n",
              "      <th>city</th>\n",
              "      <th>infection_rate</th>\n",
              "    </tr>\n",
              "  </thead>\n",
              "  <tbody>\n",
              "    <tr>\n",
              "      <th>0</th>\n",
              "      <td>Bergamo</td>\n",
              "      <td>214.000000</td>\n",
              "    </tr>\n",
              "    <tr>\n",
              "      <th>0</th>\n",
              "      <td>Brescia</td>\n",
              "      <td>202.000000</td>\n",
              "    </tr>\n",
              "    <tr>\n",
              "      <th>0</th>\n",
              "      <td>Milano</td>\n",
              "      <td>158.166667</td>\n",
              "    </tr>\n",
              "    <tr>\n",
              "      <th>0</th>\n",
              "      <td>Cremona</td>\n",
              "      <td>97.458333</td>\n",
              "    </tr>\n",
              "    <tr>\n",
              "      <th>0</th>\n",
              "      <td>Piacenza</td>\n",
              "      <td>64.875000</td>\n",
              "    </tr>\n",
              "    <tr>\n",
              "      <th>0</th>\n",
              "      <td>Torino</td>\n",
              "      <td>64.708333</td>\n",
              "    </tr>\n",
              "    <tr>\n",
              "      <th>0</th>\n",
              "      <td>Lodi</td>\n",
              "      <td>61.333333</td>\n",
              "    </tr>\n",
              "    <tr>\n",
              "      <th>0</th>\n",
              "      <td>Pesaro e Urbino</td>\n",
              "      <td>47.739130</td>\n",
              "    </tr>\n",
              "    <tr>\n",
              "      <th>0</th>\n",
              "      <td>Pavia</td>\n",
              "      <td>44.916667</td>\n",
              "    </tr>\n",
              "    <tr>\n",
              "      <th>0</th>\n",
              "      <td>Padova</td>\n",
              "      <td>41.500000</td>\n",
              "    </tr>\n",
              "  </tbody>\n",
              "</table>\n",
              "</div>"
            ],
            "text/plain": [
              "              city  infection_rate\n",
              "0          Bergamo      214.000000\n",
              "0          Brescia      202.000000\n",
              "0           Milano      158.166667\n",
              "0          Cremona       97.458333\n",
              "0         Piacenza       64.875000\n",
              "0           Torino       64.708333\n",
              "0             Lodi       61.333333\n",
              "0  Pesaro e Urbino       47.739130\n",
              "0            Pavia       44.916667\n",
              "0           Padova       41.500000"
            ]
          },
          "metadata": {
            "tags": []
          },
          "execution_count": 162
        }
      ]
    },
    {
      "cell_type": "markdown",
      "metadata": {
        "id": "9Mm042UUSgtW",
        "colab_type": "text"
      },
      "source": [
        "# Joining the datasets by city name"
      ]
    },
    {
      "cell_type": "code",
      "metadata": {
        "id": "Yp7GjfHtHGZH",
        "colab_type": "code",
        "colab": {}
      },
      "source": [
        "pollution_infections = pd.merge(pollution,infection_rate,left_on=['City/Town'],right_on=['city'])[['city','Annual mean, ug/m3','infection_rate']]"
      ],
      "execution_count": 0,
      "outputs": []
    },
    {
      "cell_type": "code",
      "metadata": {
        "id": "rVGVdeO-Twxb",
        "colab_type": "code",
        "outputId": "6e8fc480-5534-498b-9feb-268ff37c08c8",
        "colab": {
          "base_uri": "https://localhost:8080/",
          "height": 204
        }
      },
      "source": [
        "pollution_infections.head()"
      ],
      "execution_count": 164,
      "outputs": [
        {
          "output_type": "execute_result",
          "data": {
            "text/html": [
              "<div>\n",
              "<style scoped>\n",
              "    .dataframe tbody tr th:only-of-type {\n",
              "        vertical-align: middle;\n",
              "    }\n",
              "\n",
              "    .dataframe tbody tr th {\n",
              "        vertical-align: top;\n",
              "    }\n",
              "\n",
              "    .dataframe thead th {\n",
              "        text-align: right;\n",
              "    }\n",
              "</style>\n",
              "<table border=\"1\" class=\"dataframe\">\n",
              "  <thead>\n",
              "    <tr style=\"text-align: right;\">\n",
              "      <th></th>\n",
              "      <th>city</th>\n",
              "      <th>Annual mean, ug/m3</th>\n",
              "      <th>infection_rate</th>\n",
              "    </tr>\n",
              "  </thead>\n",
              "  <tbody>\n",
              "    <tr>\n",
              "      <th>0</th>\n",
              "      <td>Alessandria</td>\n",
              "      <td>32</td>\n",
              "      <td>34.941176</td>\n",
              "    </tr>\n",
              "    <tr>\n",
              "      <th>1</th>\n",
              "      <td>Ancona</td>\n",
              "      <td>26</td>\n",
              "      <td>26.947368</td>\n",
              "    </tr>\n",
              "    <tr>\n",
              "      <th>2</th>\n",
              "      <td>Aosta</td>\n",
              "      <td>18</td>\n",
              "      <td>17.466667</td>\n",
              "    </tr>\n",
              "    <tr>\n",
              "      <th>3</th>\n",
              "      <td>Arezzo</td>\n",
              "      <td>22</td>\n",
              "      <td>6.833333</td>\n",
              "    </tr>\n",
              "    <tr>\n",
              "      <th>4</th>\n",
              "      <td>Ascoli Piceno</td>\n",
              "      <td>19</td>\n",
              "      <td>4.666667</td>\n",
              "    </tr>\n",
              "  </tbody>\n",
              "</table>\n",
              "</div>"
            ],
            "text/plain": [
              "            city  Annual mean, ug/m3  infection_rate\n",
              "0    Alessandria                  32       34.941176\n",
              "1         Ancona                  26       26.947368\n",
              "2          Aosta                  18       17.466667\n",
              "3         Arezzo                  22        6.833333\n",
              "4  Ascoli Piceno                  19        4.666667"
            ]
          },
          "metadata": {
            "tags": []
          },
          "execution_count": 164
        }
      ]
    },
    {
      "cell_type": "code",
      "metadata": {
        "id": "5AqWVUruKiEi",
        "colab_type": "code",
        "colab": {
          "base_uri": "https://localhost:8080/",
          "height": 34
        },
        "outputId": "aaa464af-8ef9-4a0f-f5df-05904d7c7072"
      },
      "source": [
        "pollution_infections.shape"
      ],
      "execution_count": 165,
      "outputs": [
        {
          "output_type": "execute_result",
          "data": {
            "text/plain": [
              "(87, 3)"
            ]
          },
          "metadata": {
            "tags": []
          },
          "execution_count": 165
        }
      ]
    },
    {
      "cell_type": "markdown",
      "metadata": {
        "id": "9xDO8qbpGZS2",
        "colab_type": "text"
      },
      "source": [
        "# Spearman correlation coefficient "
      ]
    },
    {
      "cell_type": "code",
      "metadata": {
        "id": "xy1mxzX-GVqH",
        "colab_type": "code",
        "colab": {
          "base_uri": "https://localhost:8080/",
          "height": 34
        },
        "outputId": "209924b5-d70b-4e33-e313-0944523f131e"
      },
      "source": [
        "x = pollution_infections.iloc[:,1]\n",
        "y = pollution_infections.iloc[:,2]\n",
        "\n",
        "print(spearmanr(x,y))"
      ],
      "execution_count": 166,
      "outputs": [
        {
          "output_type": "stream",
          "text": [
            "SpearmanrResult(correlation=0.4196104591904644, pvalue=5.2179356018526234e-05)\n"
          ],
          "name": "stdout"
        }
      ]
    },
    {
      "cell_type": "markdown",
      "metadata": {
        "id": "dV_4qAHvGd-1",
        "colab_type": "text"
      },
      "source": [
        "# Correlation plot"
      ]
    },
    {
      "cell_type": "code",
      "metadata": {
        "id": "sR5-YLeQFr7E",
        "colab_type": "code",
        "colab": {
          "base_uri": "https://localhost:8080/",
          "height": 450
        },
        "outputId": "8c0bbe0c-8008-41fa-8256-dae608146584"
      },
      "source": [
        "plt.rcParams['figure.figsize'] = [7, 7]\n",
        "\n",
        "plt.rc('font', size=14) \n",
        "\n",
        "plt.scatter(x,y)\n",
        "plt.xlabel(\"Annual average PM10 concentration (micrograms/cubic meter)\")\n",
        "plt.ylabel(\"Daily infection rate (people/day)\")\n",
        "plt.show()"
      ],
      "execution_count": 167,
      "outputs": [
        {
          "output_type": "display_data",
          "data": {
            "image/png": "[encoded data removed]",
            "text/plain": [
              "<Figure size 504x504 with 1 Axes>"
            ]
          },
          "metadata": {
            "tags": []
          }
        }
      ]
    },
    {
      "cell_type": "markdown",
      "metadata": {
        "id": "M8ekoG-4UO1G",
        "colab_type": "text"
      },
      "source": [
        "# Average national infection rate"
      ]
    },
    {
      "cell_type": "code",
      "metadata": {
        "id": "f4LcH-NERXp6",
        "colab_type": "code",
        "colab": {}
      },
      "source": [
        "avg_national_infection_rate = np.mean(pollution_infections['infection_rate'])"
      ],
      "execution_count": 0,
      "outputs": []
    },
    {
      "cell_type": "code",
      "metadata": {
        "id": "w1Y0IRZdTyWa",
        "colab_type": "code",
        "outputId": "5263cf00-3cd7-4d02-c70d-217b14a003db",
        "colab": {
          "base_uri": "https://localhost:8080/",
          "height": 34
        }
      },
      "source": [
        "avg_national_infection_rate"
      ],
      "execution_count": 169,
      "outputs": [
        {
          "output_type": "execute_result",
          "data": {
            "text/plain": [
              "22.214203597119393"
            ]
          },
          "metadata": {
            "tags": []
          },
          "execution_count": 169
        }
      ]
    },
    {
      "cell_type": "markdown",
      "metadata": {
        "id": "AtUBjX-UURJQ",
        "colab_type": "text"
      },
      "source": [
        "# Average national pollution index"
      ]
    },
    {
      "cell_type": "code",
      "metadata": {
        "id": "VcJiTxpFPTSI",
        "colab_type": "code",
        "colab": {}
      },
      "source": [
        "avg_national_pollution = np.mean(pollution_infections['Annual mean, ug/m3'])"
      ],
      "execution_count": 0,
      "outputs": []
    },
    {
      "cell_type": "code",
      "metadata": {
        "id": "-pytO2p5TziV",
        "colab_type": "code",
        "outputId": "19afaf7e-1115-4bc7-f12f-4e9b915fe21b",
        "colab": {
          "base_uri": "https://localhost:8080/",
          "height": 34
        }
      },
      "source": [
        "avg_national_pollution"
      ],
      "execution_count": 171,
      "outputs": [
        {
          "output_type": "execute_result",
          "data": {
            "text/plain": [
              "25.95402298850575"
            ]
          },
          "metadata": {
            "tags": []
          },
          "execution_count": 171
        }
      ]
    },
    {
      "cell_type": "code",
      "metadata": {
        "id": "C4e0jd_RzxBO",
        "colab_type": "code",
        "colab": {}
      },
      "source": [
        "pollution_infections['flag_high_infection_rate'] = [int(x) for x in pollution_infections['infection_rate'] > avg_national_infection_rate]\n",
        "pollution_infections['flag_high_pollution'] = [int(x) for x in pollution_infections['Annual mean, ug/m3'] > avg_national_pollution]\n"
      ],
      "execution_count": 0,
      "outputs": []
    },
    {
      "cell_type": "markdown",
      "metadata": {
        "id": "e3L5dnLl3Rbp",
        "colab_type": "text"
      },
      "source": [
        "# Correlation between pollution and infection"
      ]
    },
    {
      "cell_type": "markdown",
      "metadata": {
        "id": "ANWVjTlr3ai4",
        "colab_type": "text"
      },
      "source": [
        "## Crosstab"
      ]
    },
    {
      "cell_type": "code",
      "metadata": {
        "id": "mc3dOept0T1x",
        "colab_type": "code",
        "colab": {}
      },
      "source": [
        "ctab_poll_inf = pd.crosstab(pollution_infections.flag_high_pollution,pollution_infections.flag_high_infection_rate)"
      ],
      "execution_count": 0,
      "outputs": []
    },
    {
      "cell_type": "code",
      "metadata": {
        "id": "St9YZeTe6vEz",
        "colab_type": "code",
        "outputId": "4a022464-d7ec-45c5-cd50-b8d843a19146",
        "colab": {
          "base_uri": "https://localhost:8080/",
          "height": 142
        }
      },
      "source": [
        "ctab_poll_inf"
      ],
      "execution_count": 174,
      "outputs": [
        {
          "output_type": "execute_result",
          "data": {
            "text/html": [
              "<div>\n",
              "<style scoped>\n",
              "    .dataframe tbody tr th:only-of-type {\n",
              "        vertical-align: middle;\n",
              "    }\n",
              "\n",
              "    .dataframe tbody tr th {\n",
              "        vertical-align: top;\n",
              "    }\n",
              "\n",
              "    .dataframe thead th {\n",
              "        text-align: right;\n",
              "    }\n",
              "</style>\n",
              "<table border=\"1\" class=\"dataframe\">\n",
              "  <thead>\n",
              "    <tr style=\"text-align: right;\">\n",
              "      <th>flag_high_infection_rate</th>\n",
              "      <th>0</th>\n",
              "      <th>1</th>\n",
              "    </tr>\n",
              "    <tr>\n",
              "      <th>flag_high_pollution</th>\n",
              "      <th></th>\n",
              "      <th></th>\n",
              "    </tr>\n",
              "  </thead>\n",
              "  <tbody>\n",
              "    <tr>\n",
              "      <th>0</th>\n",
              "      <td>40</td>\n",
              "      <td>5</td>\n",
              "    </tr>\n",
              "    <tr>\n",
              "      <th>1</th>\n",
              "      <td>22</td>\n",
              "      <td>20</td>\n",
              "    </tr>\n",
              "  </tbody>\n",
              "</table>\n",
              "</div>"
            ],
            "text/plain": [
              "flag_high_infection_rate   0   1\n",
              "flag_high_pollution             \n",
              "0                         40   5\n",
              "1                         22  20"
            ]
          },
          "metadata": {
            "tags": []
          },
          "execution_count": 174
        }
      ]
    },
    {
      "cell_type": "markdown",
      "metadata": {
        "id": "1i0B6F_t3dVi",
        "colab_type": "text"
      },
      "source": [
        "## Fisher's test p-value"
      ]
    },
    {
      "cell_type": "code",
      "metadata": {
        "id": "pC4b_Gbn14ds",
        "colab_type": "code",
        "outputId": "4588fdbe-f32a-4b68-c838-0b0282aca88b",
        "colab": {
          "base_uri": "https://localhost:8080/",
          "height": 34
        }
      },
      "source": [
        "fisher_exact(ctab_poll_inf)[1]"
      ],
      "execution_count": 175,
      "outputs": [
        {
          "output_type": "execute_result",
          "data": {
            "text/plain": [
              "0.00027536798628374553"
            ]
          },
          "metadata": {
            "tags": []
          },
          "execution_count": 175
        }
      ]
    }
  ]
}